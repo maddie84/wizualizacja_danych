{
 "cells": [
  {
   "cell_type": "markdown",
   "metadata": {
    "colab_type": "text",
    "id": "WQeVAzjpknTU"
   },
   "source": [
    "<center>\n",
    "<h1>Wizualuizacja danych w języku Python</h1>\n",
    "<h2>Matplotlib cz. 2</h2>\n",
    "</center>\n"
   ]
  },
  {
   "cell_type": "code",
   "execution_count": 27,
   "metadata": {},
   "outputs": [],
   "source": [
    "import pandas as pd\n",
    "import matplotlib.pyplot as plt"
   ]
  },
  {
   "cell_type": "markdown",
   "metadata": {
    "colab_type": "text",
    "id": "LEaSMtcQknWR"
   },
   "source": [
    "### Zadanie 1."
   ]
  },
  {
   "attachments": {},
   "cell_type": "markdown",
   "metadata": {
    "colab_type": "text",
    "id": "4eao3bD7knWS"
   },
   "source": [
    "Korzystając z danych znajdujących się w pliku `dane.csv` wczytaj dane a nastepnie stwórz nową kolumnę `Sprzedaz calkowita`. Następnie utworz nową ramkę danych (`sprzedaz`) bez kolumn sprzedaży poszczególnych produktów.\n",
    "\n",
    "Wyświelt sprzedaż całkowitą za pomocą wykresu liniowego.\n",
    "\n",
    "> Przykładowy wynik\n",
    "\n",
    "![linowy.png](./liniowy.png)\n"
   ]
  },
  {
   "cell_type": "code",
   "execution_count": 28,
   "metadata": {},
   "outputs": [
    {
     "name": "stdout",
     "output_type": "stream",
     "text": [
      "    dzien  Miesiac  Sprzedaz całkowita\n",
      "0       1     luty                 9.6\n",
      "1       2     luty                10.3\n",
      "2       3     luty                 6.8\n",
      "3       4     luty                 8.3\n",
      "4       5     luty                 8.9\n",
      "..    ...      ...                 ...\n",
      "85     27  styczen                 6.0\n",
      "86     28  styczen                 2.4\n",
      "87     29  styczen                10.4\n",
      "88     30  styczen                 8.5\n",
      "89     31  styczen                11.6\n",
      "\n",
      "[90 rows x 3 columns]\n"
     ]
    }
   ],
   "source": [
    "dane = pd.read_csv('dane.csv', sep = ';', decimal = ',',\n",
    "                   index_col=0)\n",
    "dane['Sprzedaz całkowita'] = dane['prodA'] + dane['prodB']\n",
    "\n",
    "sprzedaz = pd.DataFrame(data=dane[[\"dzien\",\"Miesiac\",\"Sprzedaz całkowita\"]])\n",
    "print(sprzedaz)"
   ]
  },
  {
   "cell_type": "code",
   "execution_count": 7,
   "metadata": {},
   "outputs": [
    {
     "name": "stdout",
     "output_type": "stream",
     "text": [
      "    dzien  Miesiac  Sprzedaz całkowita\n",
      "0       1     luty                 9.6\n",
      "1       2     luty                10.3\n",
      "2       3     luty                 6.8\n",
      "3       4     luty                 8.3\n",
      "4       5     luty                 8.9\n",
      "..    ...      ...                 ...\n",
      "85     27  styczen                 6.0\n",
      "86     28  styczen                 2.4\n",
      "87     29  styczen                10.4\n",
      "88     30  styczen                 8.5\n",
      "89     31  styczen                11.6\n",
      "\n",
      "[90 rows x 3 columns]\n"
     ]
    }
   ],
   "source": [
    "# sprzedaz['Miesiac'] = pd.Categorical(dane.Miesiac, \n",
    "#                       categories=[\"styczen\",\"luty\",\"marzec\"],\n",
    "#                       ordered=True)\n",
    "# print(sprzedaz)\n",
    "#nowe_dane[nowe_dane.Miesiac < \"marzec\"]"
   ]
  },
  {
   "cell_type": "markdown",
   "metadata": {
    "colab_type": "text",
    "id": "LEaSMtcQknWR"
   },
   "source": [
    "### Zadanie 2."
   ]
  },
  {
   "attachments": {},
   "cell_type": "markdown",
   "metadata": {
    "colab_type": "text",
    "id": "4eao3bD7knWS"
   },
   "source": [
    "Z ramki **sprzedaz** usuń dane z lutego. "
   ]
  },
  {
   "cell_type": "code",
   "execution_count": 34,
   "metadata": {},
   "outputs": [
    {
     "data": {
      "text/html": [
       "<div>\n",
       "<style scoped>\n",
       "    .dataframe tbody tr th:only-of-type {\n",
       "        vertical-align: middle;\n",
       "    }\n",
       "\n",
       "    .dataframe tbody tr th {\n",
       "        vertical-align: top;\n",
       "    }\n",
       "\n",
       "    .dataframe thead th {\n",
       "        text-align: right;\n",
       "    }\n",
       "</style>\n",
       "<table border=\"1\" class=\"dataframe\">\n",
       "  <thead>\n",
       "    <tr style=\"text-align: right;\">\n",
       "      <th></th>\n",
       "      <th>dzien</th>\n",
       "      <th>Miesiac</th>\n",
       "      <th>Sprzedaz całkowita</th>\n",
       "    </tr>\n",
       "  </thead>\n",
       "  <tbody>\n",
       "    <tr>\n",
       "      <th>28</th>\n",
       "      <td>1</td>\n",
       "      <td>marzec</td>\n",
       "      <td>5.8</td>\n",
       "    </tr>\n",
       "    <tr>\n",
       "      <th>29</th>\n",
       "      <td>2</td>\n",
       "      <td>marzec</td>\n",
       "      <td>9.7</td>\n",
       "    </tr>\n",
       "    <tr>\n",
       "      <th>30</th>\n",
       "      <td>3</td>\n",
       "      <td>marzec</td>\n",
       "      <td>2.6</td>\n",
       "    </tr>\n",
       "    <tr>\n",
       "      <th>31</th>\n",
       "      <td>4</td>\n",
       "      <td>marzec</td>\n",
       "      <td>3.2</td>\n",
       "    </tr>\n",
       "    <tr>\n",
       "      <th>32</th>\n",
       "      <td>5</td>\n",
       "      <td>marzec</td>\n",
       "      <td>4.7</td>\n",
       "    </tr>\n",
       "    <tr>\n",
       "      <th>...</th>\n",
       "      <td>...</td>\n",
       "      <td>...</td>\n",
       "      <td>...</td>\n",
       "    </tr>\n",
       "    <tr>\n",
       "      <th>85</th>\n",
       "      <td>27</td>\n",
       "      <td>styczen</td>\n",
       "      <td>6.0</td>\n",
       "    </tr>\n",
       "    <tr>\n",
       "      <th>86</th>\n",
       "      <td>28</td>\n",
       "      <td>styczen</td>\n",
       "      <td>2.4</td>\n",
       "    </tr>\n",
       "    <tr>\n",
       "      <th>87</th>\n",
       "      <td>29</td>\n",
       "      <td>styczen</td>\n",
       "      <td>10.4</td>\n",
       "    </tr>\n",
       "    <tr>\n",
       "      <th>88</th>\n",
       "      <td>30</td>\n",
       "      <td>styczen</td>\n",
       "      <td>8.5</td>\n",
       "    </tr>\n",
       "    <tr>\n",
       "      <th>89</th>\n",
       "      <td>31</td>\n",
       "      <td>styczen</td>\n",
       "      <td>11.6</td>\n",
       "    </tr>\n",
       "  </tbody>\n",
       "</table>\n",
       "<p>62 rows × 3 columns</p>\n",
       "</div>"
      ],
      "text/plain": [
       "    dzien  Miesiac  Sprzedaz całkowita\n",
       "28      1   marzec                 5.8\n",
       "29      2   marzec                 9.7\n",
       "30      3   marzec                 2.6\n",
       "31      4   marzec                 3.2\n",
       "32      5   marzec                 4.7\n",
       "..    ...      ...                 ...\n",
       "85     27  styczen                 6.0\n",
       "86     28  styczen                 2.4\n",
       "87     29  styczen                10.4\n",
       "88     30  styczen                 8.5\n",
       "89     31  styczen                11.6\n",
       "\n",
       "[62 rows x 3 columns]"
      ]
     },
     "execution_count": 34,
     "metadata": {},
     "output_type": "execute_result"
    }
   ],
   "source": [
    "sprzedaz.drop(sprzedaz[sprzedaz['Miesiac'] == 'luty'].index, inplace=True)\n",
    "sprzedaz"
   ]
  },
  {
   "attachments": {},
   "cell_type": "markdown",
   "metadata": {
    "colab_type": "text",
    "id": "4eao3bD7knWS"
   },
   "source": [
    "### a) \n",
    "\n",
    "A następnie przygotuj zestawienie:\n",
    "\n",
    "![slupkowy.png](./slupkowy.png)"
   ]
  },
  {
   "cell_type": "code",
   "execution_count": 30,
   "metadata": {},
   "outputs": [
    {
     "data": {
      "text/plain": [
       "Miesiac\n",
       "marzec     177.1\n",
       "styczen    191.3\n",
       "Name: Sprzedaz całkowita, dtype: float64"
      ]
     },
     "metadata": {},
     "output_type": "display_data"
    },
    {
     "data": {
      "image/png": "[encoded data removed]",
      "text/plain": [
       "<Figure size 640x480 with 1 Axes>"
      ]
     },
     "metadata": {},
     "output_type": "display_data"
    }
   ],
   "source": [
    "sprzed_cal = sprzedaz.groupby(['Miesiac'])['Sprzedaz całkowita'].sum()\n",
    "display(sprzed_cal)\n",
    "\n",
    "x = [50, 100, 150]\n",
    "x_labels = [\"50k\", \"100k\", \"150k\"]\n",
    "plt.xticks(x, x_labels)\n",
    "\n",
    "plt.title(\"Sprzedaż całkowita w styczniu i marcu\")\n",
    "\n",
    "sprzed_cal.plot.barh(stacked=True)\n",
    "plt.show(x)"
   ]
  },
  {
   "attachments": {},
   "cell_type": "markdown",
   "metadata": {
    "colab_type": "text",
    "id": "4eao3bD7knWS"
   },
   "source": [
    "### b) \n",
    "\n",
    "A następnie przygotuj zestawienie:\n",
    "\n",
    "![slupkowy_skumul.png](./slupkowy_skumul.png)"
   ]
  },
  {
   "cell_type": "code",
   "execution_count": 43,
   "metadata": {},
   "outputs": [
    {
     "data": {
      "text/html": [
       "<div>\n",
       "<style scoped>\n",
       "    .dataframe tbody tr th:only-of-type {\n",
       "        vertical-align: middle;\n",
       "    }\n",
       "\n",
       "    .dataframe tbody tr th {\n",
       "        vertical-align: top;\n",
       "    }\n",
       "\n",
       "    .dataframe thead th {\n",
       "        text-align: right;\n",
       "    }\n",
       "</style>\n",
       "<table border=\"1\" class=\"dataframe\">\n",
       "  <thead>\n",
       "    <tr style=\"text-align: right;\">\n",
       "      <th>Miesiac</th>\n",
       "      <th>luty</th>\n",
       "      <th>marzec</th>\n",
       "      <th>styczen</th>\n",
       "    </tr>\n",
       "  </thead>\n",
       "  <tbody>\n",
       "    <tr>\n",
       "      <th>Sprzedaz całkowita</th>\n",
       "      <td>198.2</td>\n",
       "      <td>177.1</td>\n",
       "      <td>191.3</td>\n",
       "    </tr>\n",
       "  </tbody>\n",
       "</table>\n",
       "</div>"
      ],
      "text/plain": [
       "Miesiac              luty  marzec  styczen\n",
       "Sprzedaz całkowita  198.2   177.1    191.3"
      ]
     },
     "metadata": {},
     "output_type": "display_data"
    },
    {
     "data": {
      "image/png": "[encoded data removed]",
      "text/plain": [
       "<Figure size 640x480 with 1 Axes>"
      ]
     },
     "metadata": {},
     "output_type": "display_data"
    },
    {
     "data": {
      "image/png": "[encoded data removed]",
      "text/plain": [
       "<Figure size 640x480 with 1 Axes>"
      ]
     },
     "metadata": {},
     "output_type": "display_data"
    }
   ],
   "source": [
    "sprzedaz.drop(sprzedaz[sprzedaz['Miesiac'] == 'luty'].index, inplace=True)\n",
    "sprzed_cal_K = pd.DataFrame(sprzed_cal).T # T oznacza transpozycje\n",
    "display(sprzed_cal_K)\n",
    "\n",
    "x = [50, 100, 150, 200, 250, 300, 350]\n",
    "x_labels = [\"50k\", \"100k\", \"150k\", \"200k\", \"250k\", \"300k\", \"350k\"]\n",
    "plt.xticks(x, x_labels)\n",
    "\n",
    "plt.title(\"Sprzedaż całkowita w styczniu i marcu\")\n",
    "\n",
    "sprzed_cal_K .plot.barh(stacked = True)\n",
    "plt.show()\n"
   ]
  },
  {
   "cell_type": "markdown",
   "metadata": {
    "colab_type": "text",
    "id": "LEaSMtcQknWR"
   },
   "source": [
    "### Zadanie 3."
   ]
  },
  {
   "attachments": {},
   "cell_type": "markdown",
   "metadata": {
    "colab_type": "text",
    "id": "4eao3bD7knWS"
   },
   "source": [
    "Korzystając z ramki **dane** dla sprzedaży z marca wyświetl kolumny sprzedaży produktów `A` i `B`, wiersze uporządkuj malejąco dla produktu `A`. Wyniki przedstaw na wykresie punktowym.\n",
    "\n",
    "> Przykładowy wynik\n",
    "\n",
    "![punktowy.png](./punktowy.png)"
   ]
  },
  {
   "cell_type": "code",
   "execution_count": 3,
   "metadata": {},
   "outputs": [],
   "source": [
    "# miejsce na Twój kod\n",
    "\n"
   ]
  },
  {
   "cell_type": "markdown",
   "metadata": {
    "colab_type": "text",
    "id": "LEaSMtcQknWR"
   },
   "source": [
    "### Zadanie 4."
   ]
  },
  {
   "cell_type": "markdown",
   "metadata": {
    "colab_type": "text",
    "id": "4eao3bD7knWS"
   },
   "source": [
    "### a) \n",
    "\n",
    "Korzystając z ramki **dane** wyświetl informacje o miesiącu i sprzedaży produktu `A` większej od średniej sprzedaży tego produktu wyniki uporządkuj po miesiącu zachowując porządek zgodny z kolejnością miesięcy a w obrębie miesiąca po wielkości sprzedaży."
   ]
  },
  {
   "cell_type": "code",
   "execution_count": 4,
   "metadata": {},
   "outputs": [],
   "source": [
    "# miejsce na Twój kod\n"
   ]
  },
  {
   "attachments": {},
   "cell_type": "markdown",
   "metadata": {
    "colab_type": "text",
    "id": "4eao3bD7knWS"
   },
   "source": [
    "### b)\n",
    "\n",
    "Zlicz ile było dni ze sprzedażą  powyżej średniej, wyniki przedstaw na wykresie.\n",
    "\n",
    "> Przykładowy wykres\n",
    " \n",
    "![dni.png](./dni.png)"
   ]
  },
  {
   "cell_type": "code",
   "execution_count": 5,
   "metadata": {},
   "outputs": [],
   "source": [
    "# miejsce na Twój kod\n"
   ]
  },
  {
   "cell_type": "markdown",
   "metadata": {
    "colab_type": "text",
    "id": "LEaSMtcQknWR"
   },
   "source": [
    "### Zadanie 5."
   ]
  },
  {
   "attachments": {},
   "cell_type": "markdown",
   "metadata": {
    "colab_type": "text",
    "id": "4eao3bD7knWS"
   },
   "source": [
    "Korzystając z ramki **dane**  wyznacz sumaryczną sprzedaż dla produktów w każdym miesiącu, wyniki przedstaw na wykresie.\n",
    "\n",
    "> Przykładowy wykres\n",
    "\n",
    "![sprzedaz.png](./sprzedaz.png)"
   ]
  },
  {
   "cell_type": "code",
   "execution_count": 6,
   "metadata": {},
   "outputs": [],
   "source": [
    "# miejsce na Twój kod\n"
   ]
  },
  {
   "attachments": {},
   "cell_type": "markdown",
   "metadata": {
    "colab_type": "text",
    "id": "LEaSMtcQknWR"
   },
   "source": [
    "### Zadanie 6."
   ]
  },
  {
   "attachments": {},
   "cell_type": "markdown",
   "metadata": {
    "colab_type": "text",
    "id": "4eao3bD7knWS"
   },
   "source": [
    "Przygotuj wykres przezentujący sprzedaż produktu B w kolejnych dniach kwartału 1. z oznaczeniem dni w których sprzedaż była maksymalna.\n",
    "\n",
    "> Przykładowy wykres\n",
    "\n",
    "![linmax.png](./linmax.png)"
   ]
  },
  {
   "cell_type": "code",
   "execution_count": 7,
   "metadata": {},
   "outputs": [],
   "source": [
    "# miejsce na Twój kod\n"
   ]
  }
 ],
 "metadata": {
  "colab": {
   "name": "PwJP_02_1819.ipynb",
   "provenance": [],
   "version": "0.3.2"
  },
  "kernelspec": {
   "display_name": "Python 3 (ipykernel)",
   "language": "python",
   "name": "python3"
  },
  "language_info": {
   "codemirror_mode": {
    "name": "ipython",
    "version": 3
   },
   "file_extension": ".py",
   "mimetype": "text/x-python",
   "name": "python",
   "nbconvert_exporter": "python",
   "pygments_lexer": "ipython3",
   "version": "3.12.0"
  },
  "toc": {
   "base_numbering": 1,
   "nav_menu": {},
   "number_sections": true,
   "sideBar": true,
   "skip_h1_title": false,
   "title_cell": "Table of Contents",
   "title_sidebar": "Contents",
   "toc_cell": false,
   "toc_position": {},
   "toc_section_display": true,
   "toc_window_display": true
  }
 },
 "nbformat": 4,
 "nbformat_minor": 1
}
